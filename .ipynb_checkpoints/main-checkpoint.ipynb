{
 "cells": [
  {
   "cell_type": "code",
   "execution_count": 1,
   "metadata": {},
   "outputs": [],
   "source": [
    "import numpy as np\n",
    "import matplotlib.pyplot as plt\n",
    "import torch\n",
    "from torch.autograd import Variable\n",
    "%load_ext autoreload\n",
    "%autoreload 2"
   ]
  },
  {
   "cell_type": "code",
   "execution_count": 2,
   "metadata": {},
   "outputs": [
    {
     "name": "stdout",
     "output_type": "stream",
     "text": [
      "Train size: 48000\n",
      "Val size: 1000\n",
      "Test size: 1000\n"
     ]
    }
   ],
   "source": [
    "#code for making the model independent of the size/location of the Dataset in the machine. \n",
    "\n",
    "#load the CIFAR-10 Dataset\n",
    "from Util_code.preprocess import get_CIFAR10_datasets\n",
    "train_data, val_data, test_data, mean_image = get_CIFAR10_datasets()\n",
    "print(\"Train size: %i\" % len(train_data))\n",
    "print(\"Val size: %i\" % len(val_data))\n",
    "print(\"Test size: %i\" % len(test_data))"
   ]
  },
  {
   "cell_type": "code",
   "execution_count": 3,
   "metadata": {},
   "outputs": [
    {
     "name": "stdout",
     "output_type": "stream",
     "text": [
      "Difference between the correct and your forward pass:\n",
      "2.0456036364110676e-05\n"
     ]
    }
   ],
   "source": [
    "#code for importing the model from the classifers folder\n",
    "#sanity checking the forward propagration with dummy inputs\n",
    "\n",
    "from Util_code.classifiers.classification_cnn import ClassificationCNN\n",
    "from Util_code.preprocess import rel_error\n",
    "device = 'cpu'\n",
    "torch.manual_seed(0)\n",
    "np.random.seed(0)\n",
    "\n",
    "#creating a random input \n",
    "X = np.random.randn(2, 3, 5, 5).astype(np.float32)\n",
    "X_tensor = torch.from_numpy(X.copy())\n",
    "inputs = X_tensor.to(device)\n",
    "\n",
    "model = ClassificationCNN(input_dim=(3, 5, 5), num_classes=3)\n",
    "model.to(device)\n",
    "outputs = model.forward(inputs)\n",
    "correct_outputs = np.array([[0.0012621, -0.099135,  0.076110],\n",
    "                            [0.0013608, -0.099130,  0.076120]])\n",
    "\n",
    "# The difference should be very small. We get 1e-5\n",
    "print('Difference between the correct and your forward pass:')\n",
    "print(rel_error(correct_outputs, outputs.cpu().detach().numpy()))"
   ]
  },
  {
   "cell_type": "code",
   "execution_count": 8,
   "metadata": {},
   "outputs": [
    {
     "name": "stdout",
     "output_type": "stream",
     "text": [
      "device =  cpu\n",
      "START TRAIN.\n",
      "Epoch [1/10], Iteration[2/1] Loss: 2.3014\n"
     ]
    },
    {
     "name": "stderr",
     "output_type": "stream",
     "text": [
      "/home/balamuruganthambiraja/Documents/dlcv/i2dl/pytorch_project/Util_code/solver.py:82: UserWarning: invalid index of a 0-dim tensor. This will be an error in PyTorch 0.5. Use tensor.item() to convert a 0-dim tensor to a Python number\n",
      "  self.train_loss_history.append(loss.data[0])\n",
      "/home/balamuruganthambiraja/Documents/dlcv/i2dl/pytorch_project/Util_code/solver.py:86: UserWarning: invalid index of a 0-dim tensor. This will be an error in PyTorch 0.5. Use tensor.item() to convert a 0-dim tensor to a Python number\n",
      "  loss.data[0]))\n"
     ]
    },
    {
     "name": "stdout",
     "output_type": "stream",
     "text": [
      "Epoch [1/10] TRAIN loss: 2.3014, acc: 0.1300\n",
      "Epoch [1/10] VALID loss: 6.5445, acc: 0.1000\n"
     ]
    },
    {
     "name": "stderr",
     "output_type": "stream",
     "text": [
      "/home/balamuruganthambiraja/Documents/dlcv/i2dl/pytorch_project/Util_code/solver.py:122: UserWarning: invalid index of a 0-dim tensor. This will be an error in PyTorch 0.5. Use tensor.item() to convert a 0-dim tensor to a Python number\n",
      "  self.val_loss_history.append(loss_val.data[0])\n",
      "/home/balamuruganthambiraja/Documents/dlcv/i2dl/pytorch_project/Util_code/solver.py:126: UserWarning: invalid index of a 0-dim tensor. This will be an error in PyTorch 0.5. Use tensor.item() to convert a 0-dim tensor to a Python number\n",
      "  %(epoch+1, num_epochs, loss.data[0], acc_train))\n",
      "/home/balamuruganthambiraja/Documents/dlcv/i2dl/pytorch_project/Util_code/solver.py:128: UserWarning: invalid index of a 0-dim tensor. This will be an error in PyTorch 0.5. Use tensor.item() to convert a 0-dim tensor to a Python number\n",
      "  %(epoch+1, num_epochs, loss_val.data[0], acc_val))\n"
     ]
    },
    {
     "name": "stdout",
     "output_type": "stream",
     "text": [
      "Epoch [2/10], Iteration[2/1] Loss: 5.5314\n",
      "Epoch [2/10] TRAIN loss: 5.5314, acc: 0.1700\n",
      "Epoch [2/10] VALID loss: 3.8645, acc: 0.1020\n",
      "Epoch [3/10], Iteration[2/1] Loss: 3.7226\n",
      "Epoch [3/10] TRAIN loss: 3.7226, acc: 0.1000\n",
      "Epoch [3/10] VALID loss: 3.5870, acc: 0.0620\n",
      "Epoch [4/10], Iteration[2/1] Loss: 3.6386\n",
      "Epoch [4/10] TRAIN loss: 3.6386, acc: 0.0500\n",
      "Epoch [4/10] VALID loss: 3.8711, acc: 0.0930\n",
      "Epoch [5/10], Iteration[2/1] Loss: 3.7026\n",
      "Epoch [5/10] TRAIN loss: 3.7026, acc: 0.1300\n",
      "Epoch [5/10] VALID loss: 3.0103, acc: 0.1000\n",
      "Epoch [6/10], Iteration[2/1] Loss: 2.9274\n",
      "Epoch [6/10] TRAIN loss: 2.9274, acc: 0.0500\n",
      "Epoch [6/10] VALID loss: 2.6844, acc: 0.1170\n",
      "Epoch [7/10], Iteration[2/1] Loss: 2.4908\n",
      "Epoch [7/10] TRAIN loss: 2.4908, acc: 0.1400\n",
      "Epoch [7/10] VALID loss: 2.5117, acc: 0.1500\n",
      "Epoch [8/10], Iteration[2/1] Loss: 2.2709\n",
      "Epoch [8/10] TRAIN loss: 2.2709, acc: 0.2100\n",
      "Epoch [8/10] VALID loss: 2.6053, acc: 0.1680\n",
      "Epoch [9/10], Iteration[2/1] Loss: 2.2627\n",
      "Epoch [9/10] TRAIN loss: 2.2627, acc: 0.2200\n",
      "Epoch [9/10] VALID loss: 2.5531, acc: 0.1710\n",
      "Epoch [10/10], Iteration[2/1] Loss: 2.1765\n",
      "Epoch [10/10] TRAIN loss: 2.1765, acc: 0.2300\n",
      "Epoch [10/10] VALID loss: 2.3949, acc: 0.1770\n",
      "FINISH.\n"
     ]
    }
   ],
   "source": [
    "#code for testing the workflow to check the workflow\n",
    "#solver implementation\n",
    "from Util_code.classifiers.classification_cnn import ClassificationCNN\n",
    "from Util_code.solver import Solver\n",
    "from torch.utils.data.sampler import SequentialSampler\n",
    "\n",
    "num_train = 100\n",
    "model = ClassificationCNN()\n",
    "Sanity_Sampler = SequentialSampler(range(num_train))\n",
    "\n",
    "train_loader = torch.utils.data.DataLoader(train_data, batch_size=100,shuffle=False, num_workers=2,sampler=OverfitSampler)\n",
    "val_loader = torch.utils.data.DataLoader(val_data, batch_size=100,shuffle=False, num_workers=2)\n",
    "model.to('cpu')\n",
    "sanity_Solver = Solver(optim_args={\"lr\": 1e-2})\n",
    "sanity_Solver.train(model, train_loader, val_loader,log_nth=1, num_epochs=10)\n",
    "\n"
   ]
  },
  {
   "cell_type": "code",
   "execution_count": null,
   "metadata": {
    "collapsed": true
   },
   "outputs": [],
   "source": []
  }
 ],
 "metadata": {
  "kernelspec": {
   "display_name": "Python 3",
   "language": "python",
   "name": "python3"
  },
  "language_info": {
   "codemirror_mode": {
    "name": "ipython",
    "version": 3
   },
   "file_extension": ".py",
   "mimetype": "text/x-python",
   "name": "python",
   "nbconvert_exporter": "python",
   "pygments_lexer": "ipython3",
   "version": "3.5.2"
  }
 },
 "nbformat": 4,
 "nbformat_minor": 2
}
