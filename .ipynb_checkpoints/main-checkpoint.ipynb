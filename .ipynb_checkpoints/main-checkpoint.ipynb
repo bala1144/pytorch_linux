{
 "cells": [
  {
   "cell_type": "code",
   "execution_count": 7,
   "metadata": {},
   "outputs": [
    {
     "name": "stdout",
     "output_type": "stream",
     "text": [
      "The autoreload extension is already loaded. To reload it, use:\n",
      "  %reload_ext autoreload\n"
     ]
    }
   ],
   "source": [
    "import numpy as np\n",
    "import matplotlib.pyplot as plt\n",
    "import torch\n",
    "from torch.autograd import Variable\n",
    "%load_ext autoreload\n",
    "%autoreload 2"
   ]
  },
  {
   "cell_type": "code",
   "execution_count": 8,
   "metadata": {},
   "outputs": [
    {
     "name": "stdout",
     "output_type": "stream",
     "text": [
      "Train size: 48000\n",
      "Val size: 1000\n",
      "Test size: 1000\n"
     ]
    }
   ],
   "source": [
    "#code for making the model independent of the size/location of the Dataset in the machine. \n",
    "\n",
    "#load the CIFAR-10 Dataset\n",
    "from Util_code.preprocess import get_CIFAR10_datasets\n",
    "train_data, val_data, test_data, mean_image = get_CIFAR10_datasets()\n",
    "print(\"Train size: %i\" % len(train_data))\n",
    "print(\"Val size: %i\" % len(val_data))\n",
    "print(\"Test size: %i\" % len(test_data))"
   ]
  },
  {
   "cell_type": "code",
   "execution_count": 10,
   "metadata": {},
   "outputs": [
    {
     "name": "stdout",
     "output_type": "stream",
     "text": [
      "Difference between the correct and your forward pass:\n",
      "2.0456036364110676e-05\n"
     ]
    }
   ],
   "source": [
    "#code for importing the model from the classifers folder\n",
    "#sanity checking the forward propagration with dummy inputs\n",
    "\n",
    "from Util_code.classifiers.classification_cnn import ClassificationCNN\n",
    "from Util_code.preprocess import rel_error\n",
    "device = 'cpu'\n",
    "torch.manual_seed(0)\n",
    "np.random.seed(0)\n",
    "\n",
    "#creating a random input \n",
    "X = np.random.randn(2, 3, 5, 5).astype(np.float32)\n",
    "X_tensor = torch.from_numpy(X.copy())\n",
    "inputs = X_tensor.to(device)\n",
    "\n",
    "model = ClassificationCNN(input_dim=(3, 5, 5), num_classes=3)\n",
    "model.to(device)\n",
    "outputs = model.forward(inputs)\n",
    "correct_outputs = np.array([[0.0012621, -0.099135,  0.076110],\n",
    "                            [0.0013608, -0.099130,  0.076120]])\n",
    "\n",
    "# The difference should be very small. We get 1e-5\n",
    "print('Difference between the correct and your forward pass:')\n",
    "print(rel_error(correct_outputs, outputs.cpu().detach().numpy()))"
   ]
  },
  {
   "cell_type": "code",
   "execution_count": null,
   "metadata": {
    "collapsed": true
   },
   "outputs": [],
   "source": [
    "#code for testing the workflow to check the workflow"
   ]
  }
 ],
 "metadata": {
  "kernelspec": {
   "display_name": "Python 3",
   "language": "python",
   "name": "python3"
  },
  "language_info": {
   "codemirror_mode": {
    "name": "ipython",
    "version": 3
   },
   "file_extension": ".py",
   "mimetype": "text/x-python",
   "name": "python",
   "nbconvert_exporter": "python",
   "pygments_lexer": "ipython3",
   "version": "3.5.2"
  }
 },
 "nbformat": 4,
 "nbformat_minor": 2
}
